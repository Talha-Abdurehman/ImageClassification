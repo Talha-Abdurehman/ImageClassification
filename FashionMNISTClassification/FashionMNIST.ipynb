{
  "nbformat": 4,
  "nbformat_minor": 0,
  "metadata": {
    "colab": {
      "provenance": []
    },
    "kernelspec": {
      "name": "python3",
      "display_name": "Python 3"
    },
    "language_info": {
      "name": "python"
    }
  },
  "cells": [
    {
      "cell_type": "code",
      "execution_count": 5,
      "metadata": {
        "id": "Ejlm7ga85Ej0"
      },
      "outputs": [],
      "source": [
        "import torch\n",
        "import torchvision\n",
        "import torch.optim as optim\n",
        "from torch.utils.data import DataLoader\n",
        "import torch.nn as nn\n",
        "import torchvision.transforms as transforms\n",
        "from torchvision.datasets import FashionMNIST\n",
        "\n",
        "import matplotlib.pyplot as plt\n",
        "from PIL import Image\n"
      ]
    },
    {
      "cell_type": "code",
      "source": [
        "transform = transforms.Compose([\n",
        "    transforms.ToTensor(),\n",
        "    transforms.Normalize((0.5,),(0.5,))\n",
        "])\n",
        "\n",
        "train_set = FashionMNIST('root', train=True, transform=transform, download=True)\n",
        "train_loader = DataLoader(train_set, batch_size=32, shuffle=True)\n",
        "\n",
        "test_set = FashionMNIST('root', train=False, download=True, transform=transform)\n",
        "test_loader = DataLoader(test_set, batch_size=32, shuffle=False)\n",
        "\n",
        "\n"
      ],
      "metadata": {
        "id": "oNe_IhwO5idA"
      },
      "execution_count": 6,
      "outputs": []
    },
    {
      "cell_type": "code",
      "source": [
        "class NeuralNetwork(nn.Module):\n",
        "  def __init__(self):\n",
        "    super().__init__()\n",
        "    self.model = nn.Sequential(\n",
        "        nn.Conv2d(1, 12, 5), # New dims => (12, 26, 26)\n",
        "        nn.ReLU(),\n",
        "        nn.MaxPool2d(2,2), # new dims = (12, 13,13)\n",
        "        nn.Conv2d(12, 24, 5), # new dims = (24, 11, 11)\n",
        "        nn.ReLU(),\n",
        "        nn.MaxPool2d(2,2), # new dims = (24, 6,6) rounded off to 6\n",
        "        nn.Flatten(),\n",
        "        nn.Linear(24*4*4, 120),\n",
        "        nn.ReLU(),\n",
        "        nn.Linear(120, 60),\n",
        "        nn.ReLU(),\n",
        "        nn.Linear(60, 10)\n",
        "    )\n",
        "\n",
        "  def forward(self, X):\n",
        "    logits = self.model(X)\n",
        "    return logits\n",
        "\n",
        "\n",
        "model = NeuralNetwork()#.to('cuda')\n",
        "\n",
        "cost_function = nn.CrossEntropyLoss()\n",
        "\n",
        "optimizer = optim.Adam(model.parameters(), lr=0.001, weight_decay=1e-4)\n"
      ],
      "metadata": {
        "id": "WlrBoRK588TG"
      },
      "execution_count": 7,
      "outputs": []
    },
    {
      "cell_type": "code",
      "source": [
        "\n",
        "epochs = 20\n",
        "\n",
        "for epoch in range(epochs):\n",
        "  running_loss = 0.0\n",
        "\n",
        "  for i, data in enumerate(train_loader):\n",
        "    image, labels = data\n",
        "    #image, labels = image.to('cuda'), labels.to('cuda')\n",
        "\n",
        "\n",
        "    optimizer.zero_grad()\n",
        "    outputs = model(image)\n",
        "    loss = cost_function(outputs, labels)\n",
        "    loss.backward()\n",
        "    optimizer.step()\n",
        "\n",
        "    running_loss += loss.item()\n",
        "  avg_loss = running_loss / len(train_loader)\n",
        "  print(f\"Epoch: {epoch + 1}/{epochs}, Loss: {avg_loss:.4f}\")\n",
        "\n",
        "  torch.save(model.state_dict(), 'FashionMNIST.pth')"
      ],
      "metadata": {
        "id": "OX-26kpWC8gn",
        "colab": {
          "base_uri": "https://localhost:8080/"
        },
        "outputId": "3b4686fb-9708-413f-8f98-ea8a96fabfb9"
      },
      "execution_count": 8,
      "outputs": [
        {
          "output_type": "stream",
          "name": "stdout",
          "text": [
            "Epoch: 1/20, Loss: 0.5410\n",
            "Epoch: 2/20, Loss: 0.3406\n",
            "Epoch: 3/20, Loss: 0.2927\n",
            "Epoch: 4/20, Loss: 0.2671\n",
            "Epoch: 5/20, Loss: 0.2459\n",
            "Epoch: 6/20, Loss: 0.2288\n",
            "Epoch: 7/20, Loss: 0.2159\n",
            "Epoch: 8/20, Loss: 0.2049\n",
            "Epoch: 9/20, Loss: 0.1938\n",
            "Epoch: 10/20, Loss: 0.1845\n",
            "Epoch: 11/20, Loss: 0.1770\n",
            "Epoch: 12/20, Loss: 0.1672\n",
            "Epoch: 13/20, Loss: 0.1600\n",
            "Epoch: 14/20, Loss: 0.1538\n",
            "Epoch: 15/20, Loss: 0.1483\n",
            "Epoch: 16/20, Loss: 0.1437\n",
            "Epoch: 17/20, Loss: 0.1378\n",
            "Epoch: 18/20, Loss: 0.1323\n",
            "Epoch: 19/20, Loss: 0.1258\n",
            "Epoch: 20/20, Loss: 0.1228\n"
          ]
        }
      ]
    },
    {
      "cell_type": "code",
      "source": [
        "model = NeuralNetwork()\n",
        "model.load_state_dict(torch.load('FashionMNIST.pth'))\n",
        "\n",
        "total_correct = 0\n",
        "total_samples = 0\n",
        "total_loss = 0\n",
        "\n",
        "model.eval()\n",
        "with torch.no_grad():\n",
        "\n",
        "  for i, data in enumerate(test_loader):\n",
        "    image, labels =  data\n",
        "    outputs = model(image)\n",
        "    loss = cost_function(outputs, labels)\n",
        "\n",
        "    total_loss += loss.item()\n",
        "    _,predicted = torch.max(outputs, 1)\n",
        "    total_correct += (predicted == labels).sum().item()\n",
        "    total_samples +=  labels.size(0)\n",
        "\n",
        "\n",
        "  average_loss = total_loss/ len(test_loader)\n",
        "  average_accuracy = 100 * total_correct / total_samples\n",
        "\n",
        "  print(f\"Loss: {average_loss:.4f}, Accuracy: {average_accuracy:.4f}\")\n",
        "\n"
      ],
      "metadata": {
        "colab": {
          "base_uri": "https://localhost:8080/"
        },
        "id": "eleNCfupMFC5",
        "outputId": "85aa42ae-d876-4a09-babe-7a2f0e9d767b"
      },
      "execution_count": 9,
      "outputs": [
        {
          "output_type": "stream",
          "name": "stderr",
          "text": [
            "<ipython-input-9-5793b89a02c5>:2: FutureWarning: You are using `torch.load` with `weights_only=False` (the current default value), which uses the default pickle module implicitly. It is possible to construct malicious pickle data which will execute arbitrary code during unpickling (See https://github.com/pytorch/pytorch/blob/main/SECURITY.md#untrusted-models for more details). In a future release, the default value for `weights_only` will be flipped to `True`. This limits the functions that could be executed during unpickling. Arbitrary objects will no longer be allowed to be loaded via this mode unless they are explicitly allowlisted by the user via `torch.serialization.add_safe_globals`. We recommend you start setting `weights_only=True` for any use case where you don't have full control of the loaded file. Please open an issue on GitHub for any issues related to this experimental feature.\n",
            "  model.load_state_dict(torch.load('FashionMNIST.pth'))\n"
          ]
        },
        {
          "output_type": "stream",
          "name": "stdout",
          "text": [
            "Loss: 0.3369, Accuracy: 89.7900\n"
          ]
        }
      ]
    },
    {
      "cell_type": "code",
      "source": [
        "import numpy as np\n",
        "classes = ['T-Shirt',\n",
        "                   'Trouser',\n",
        "                   'Pullover',\n",
        "                   'Dress',\n",
        "                   'Coat',\n",
        "                   'Sandal',\n",
        "                   'Shirt',\n",
        "                   'Sneaker',\n",
        "                   'Bag',\n",
        "                   'AnkelBoot'\n",
        "                   ]\n",
        "\n",
        "dataiter = iter(test_loader)\n",
        "images, labels = next(dataiter)\n",
        "images_arr = []\n",
        "labels_arr = []\n",
        "pred_arr = []\n",
        "# moving model to cpu for inference\n",
        "model.to(\"cpu\")\n",
        "# iterating on the dataset to predict the output\n",
        "for i in range(0,10):\n",
        "    images_arr.append(images[i].unsqueeze(0))\n",
        "    labels_arr.append(labels[i].item())\n",
        "    ps = torch.exp(model(images_arr[i]))\n",
        "    ps = ps.data.numpy().squeeze()\n",
        "    pred_arr.append(np.argmax(ps))\n",
        "# plotting the results\n",
        "fig = plt.figure(figsize=(25,4))\n",
        "for i in range(10):\n",
        "    ax = fig.add_subplot(2, 10, i+1, xticks=[], yticks=[])\n",
        "    ax.imshow(images_arr[i].resize_(1, 28, 28).numpy().squeeze(), cmap='inferno')\n",
        "    ax.set_title(\"{} ({})\".format(classes[pred_arr[i]], classes[labels_arr[i]]),\n",
        "                 color=(\"green\" if pred_arr[i]==labels_arr[i] else \"red\"))"
      ],
      "metadata": {
        "colab": {
          "base_uri": "https://localhost:8080/",
          "height": 104
        },
        "id": "qWFlANdiOOM-",
        "outputId": "7ec9242f-1506-431c-ccfc-14bd60ab2cc8"
      },
      "execution_count": 10,
      "outputs": [
        {
          "output_type": "display_data",
          "data": {
            "text/plain": [
              "<Figure size 2500x400 with 10 Axes>"
            ],
            "image/png": "[encoded data removed]"
          },
          "metadata": {}
        }
      ]
    }
  ]
}
